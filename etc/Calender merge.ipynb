{
 "cells": [
  {
   "cell_type": "code",
   "execution_count": 3,
   "metadata": {},
   "outputs": [
    {
     "name": "stdout",
     "output_type": "stream",
     "text": [
      "Attempting to load from:\n",
      "C:/Users/mvk/Documents/DATA_school/thesis/data_new\\paris\\2023-09-04\\listings.csv\n",
      "Data loaded successfully!\n"
     ]
    }
   ],
   "source": [
    "import pandas as pd\n",
    "import numpy as np\n",
    "import matplotlib.pyplot as plt\n",
    "import seaborn as sns\n",
    "from datetime import datetime\n",
    "import os\n",
    "\n",
    "# Enable inline plotting\n",
    "%matplotlib inline\n",
    "\n",
    "# Set style for all plots\n",
    "plt.style.use('seaborn-v0_8')\n",
    "sns.set_palette(\"husl\")\n",
    "import os\n",
    "\n",
    "\n",
    "base_folder = 'C:/Users/mvk/Documents/DATA_school/thesis/data_new'\n",
    "\n",
    "def load_city_data(base_folder, city, date):\n",
    "    \"\"\"Load and preprocess data for a specific city and date.\"\"\"\n",
    "    # Use os.path.join to handle path separators correctly\n",
    "    base_path = os.path.join(base_folder, city, date)\n",
    "    \n",
    "    # Print the paths to verify they're correct\n",
    "    listings_path = os.path.join(base_path, 'listings.csv')\n",
    "    calendar_path = os.path.join(base_path, 'calendar.csv')\n",
    "    neighborhoods_path = os.path.join(base_path, 'neighbourhoods.csv')\n",
    "    \n",
    "    print(f\"Attempting to load from:\\n{listings_path}\")\n",
    "    \n",
    "    # Load data files\n",
    "    listings = pd.read_csv(listings_path, low_memory=False)\n",
    "    calendar = pd.read_csv(calendar_path, low_memory=False)\n",
    "    neighborhoods = pd.read_csv(neighborhoods_path)\n",
    "    \n",
    "    return listings, calendar, neighborhoods\n",
    "\n",
    "city = \"paris\"\n",
    "date = \"2023-09-04\"\n",
    "try:\n",
    "    listings, calendar, neighborhoods = load_city_data(base_folder, city, date)\n",
    "    print(\"Data loaded successfully!\")\n",
    "except Exception as e:\n",
    "    print(f\"Error loading data: {str(e)}\")\n",
    "    print(f\"Current working directory: {os.getcwd()}\")"
   ]
  },
  {
   "cell_type": "code",
   "execution_count": 7,
   "metadata": {},
   "outputs": [
    {
     "name": "stdout",
     "output_type": "stream",
     "text": [
      "Processing 6 folders for paris...\n",
      "Reading data from 2023-06-06: 22521650 rows\n",
      "Reading data from 2023-09-04: 24798862 rows\n"
     ]
    },
    {
     "name": "stderr",
     "output_type": "stream",
     "text": [
      "C:\\Users\\mvk\\AppData\\Local\\Temp\\ipykernel_23600\\1687801375.py:32: DtypeWarning: Columns (4) have mixed types. Specify dtype option on import or set low_memory=False.\n",
      "  df = pd.read_csv(calendar_file)\n"
     ]
    },
    {
     "name": "stdout",
     "output_type": "stream",
     "text": [
      "Reading data from 2023-12-12: 27134477 rows\n"
     ]
    },
    {
     "name": "stderr",
     "output_type": "stream",
     "text": [
      "C:\\Users\\mvk\\AppData\\Local\\Temp\\ipykernel_23600\\1687801375.py:32: DtypeWarning: Columns (4) have mixed types. Specify dtype option on import or set low_memory=False.\n",
      "  df = pd.read_csv(calendar_file)\n"
     ]
    },
    {
     "name": "stdout",
     "output_type": "stream",
     "text": [
      "Reading data from 2024-03-16: 30804889 rows\n"
     ]
    },
    {
     "name": "stderr",
     "output_type": "stream",
     "text": [
      "C:\\Users\\mvk\\AppData\\Local\\Temp\\ipykernel_23600\\1687801375.py:32: DtypeWarning: Columns (4) have mixed types. Specify dtype option on import or set low_memory=False.\n",
      "  df = pd.read_csv(calendar_file)\n"
     ]
    },
    {
     "name": "stdout",
     "output_type": "stream",
     "text": [
      "Reading data from 2024-06-10: 34997121 rows\n"
     ]
    },
    {
     "name": "stderr",
     "output_type": "stream",
     "text": [
      "C:\\Users\\mvk\\AppData\\Local\\Temp\\ipykernel_23600\\1687801375.py:32: DtypeWarning: Columns (4) have mixed types. Specify dtype option on import or set low_memory=False.\n",
      "  df = pd.read_csv(calendar_file)\n"
     ]
    },
    {
     "name": "stdout",
     "output_type": "stream",
     "text": [
      "Reading data from 2024-09-06: 34842829 rows\n",
      "\n",
      "Merging dataframes...\n",
      "\n",
      "Merged Dataset Information:\n",
      "------------------------------\n",
      "Total rows: 79418789\n",
      "Total columns: 3\n",
      "Date range: 2023-06-07 00:00:00 to 2025-09-12 00:00:00\n",
      "Number of unique listings: 128063\n",
      "\n",
      "First few rows of the merged dataset:\n"
     ]
    },
    {
     "data": {
      "application/vnd.microsoft.datawrangler.viewer.v0+json": {
       "columns": [
        {
         "name": "index",
         "rawType": "int64",
         "type": "integer"
        },
        {
         "name": "listing_id",
         "rawType": "int64",
         "type": "integer"
        },
        {
         "name": "date",
         "rawType": "datetime64[ns]",
         "type": "datetime"
        },
        {
         "name": "price",
         "rawType": "float64",
         "type": "float"
        }
       ],
       "conversionMethod": "pd.DataFrame",
       "ref": "f7882c5c-1359-4311-bbe6-120e5a14ef8d",
       "rows": [
        [
         "22521650",
         "3109",
         "2023-09-05 00:00:00",
         "110.0"
        ],
        [
         "22521651",
         "3109",
         "2023-09-06 00:00:00",
         "110.0"
        ],
        [
         "22521652",
         "3109",
         "2023-09-07 00:00:00",
         "110.0"
        ],
        [
         "22521653",
         "3109",
         "2023-09-08 00:00:00",
         "110.0"
        ],
        [
         "22521654",
         "3109",
         "2023-09-09 00:00:00",
         "110.0"
        ]
       ],
       "shape": {
        "columns": 3,
        "rows": 5
       }
      },
      "text/html": [
       "<div>\n",
       "<style scoped>\n",
       "    .dataframe tbody tr th:only-of-type {\n",
       "        vertical-align: middle;\n",
       "    }\n",
       "\n",
       "    .dataframe tbody tr th {\n",
       "        vertical-align: top;\n",
       "    }\n",
       "\n",
       "    .dataframe thead th {\n",
       "        text-align: right;\n",
       "    }\n",
       "</style>\n",
       "<table border=\"1\" class=\"dataframe\">\n",
       "  <thead>\n",
       "    <tr style=\"text-align: right;\">\n",
       "      <th></th>\n",
       "      <th>listing_id</th>\n",
       "      <th>date</th>\n",
       "      <th>price</th>\n",
       "    </tr>\n",
       "  </thead>\n",
       "  <tbody>\n",
       "    <tr>\n",
       "      <th>22521650</th>\n",
       "      <td>3109</td>\n",
       "      <td>2023-09-05</td>\n",
       "      <td>110.0</td>\n",
       "    </tr>\n",
       "    <tr>\n",
       "      <th>22521651</th>\n",
       "      <td>3109</td>\n",
       "      <td>2023-09-06</td>\n",
       "      <td>110.0</td>\n",
       "    </tr>\n",
       "    <tr>\n",
       "      <th>22521652</th>\n",
       "      <td>3109</td>\n",
       "      <td>2023-09-07</td>\n",
       "      <td>110.0</td>\n",
       "    </tr>\n",
       "    <tr>\n",
       "      <th>22521653</th>\n",
       "      <td>3109</td>\n",
       "      <td>2023-09-08</td>\n",
       "      <td>110.0</td>\n",
       "    </tr>\n",
       "    <tr>\n",
       "      <th>22521654</th>\n",
       "      <td>3109</td>\n",
       "      <td>2023-09-09</td>\n",
       "      <td>110.0</td>\n",
       "    </tr>\n",
       "  </tbody>\n",
       "</table>\n",
       "</div>"
      ],
      "text/plain": [
       "          listing_id       date  price\n",
       "22521650        3109 2023-09-05  110.0\n",
       "22521651        3109 2023-09-06  110.0\n",
       "22521652        3109 2023-09-07  110.0\n",
       "22521653        3109 2023-09-08  110.0\n",
       "22521654        3109 2023-09-09  110.0"
      ]
     },
     "metadata": {},
     "output_type": "display_data"
    },
    {
     "name": "stdout",
     "output_type": "stream",
     "text": [
      "\n",
      "Merged calendar data saved to paris_merged_calendar.csv\n"
     ]
    }
   ],
   "source": [
    "# Import required libraries\n",
    "import pandas as pd\n",
    "from pathlib import Path\n",
    "\n",
    "# Function to merge calendar data\n",
    "def merge_calendar_data(base_path, city):\n",
    "    \"\"\"\n",
    "    Merge calendar data from different quarterly snapshots into one comprehensive dataset.\n",
    "    Keep only listing_id, date, and price columns.\n",
    "    \n",
    "    Parameters:\n",
    "    base_path (str): Path to the root directory containing city folders\n",
    "    city (str): Name of the city to process (e.g., 'paris', 'amsterdam')\n",
    "    \n",
    "    Returns:\n",
    "    pd.DataFrame: Merged calendar data with selected columns\n",
    "    \"\"\"\n",
    "    # Initialize empty list to store dataframes\n",
    "    dfs = []\n",
    "    \n",
    "    # Get all date folders for the specified city\n",
    "    city_path = Path(base_path) / city\n",
    "    date_folders = sorted([d for d in city_path.iterdir() if d.is_dir()])\n",
    "    \n",
    "    print(f\"Processing {len(date_folders)} folders for {city}...\")\n",
    "    \n",
    "    for date_folder in date_folders:\n",
    "        calendar_file = date_folder / 'calendar.csv'\n",
    "        \n",
    "        if calendar_file.exists():\n",
    "            # Read the calendar file\n",
    "            df = pd.read_csv(calendar_file)\n",
    "            print(f\"Reading data from {date_folder.name}: {df.shape[0]} rows\")\n",
    "            \n",
    "            # Keep only required columns\n",
    "            df = df[['listing_id', 'date', 'price']]\n",
    "            \n",
    "            # Convert date column to datetime\n",
    "            df['date'] = pd.to_datetime(df['date'])\n",
    "            \n",
    "            # Clean price column\n",
    "            df['price'] = df['price'].str.replace('$', '').str.replace(',', '').astype(float)\n",
    "            \n",
    "            # Add source date (when the data was scraped)\n",
    "            df['source_date'] = pd.to_datetime(date_folder.name)\n",
    "            \n",
    "            dfs.append(df)\n",
    "    \n",
    "    print(\"\\nMerging dataframes...\")\n",
    "    # Concatenate all dataframes\n",
    "    merged_df = pd.concat(dfs, ignore_index=True)\n",
    "    \n",
    "    # Sort by listing_id and date\n",
    "    merged_df = merged_df.sort_values(['listing_id', 'date', 'source_date'])\n",
    "    \n",
    "    # For each listing_id and date combination, keep the row with the latest source_date\n",
    "    merged_df = merged_df.drop_duplicates(subset=['listing_id', 'date'], keep='last')\n",
    "    \n",
    "    # Drop the source_date column as it's no longer needed\n",
    "    merged_df = merged_df.drop('source_date', axis=1)\n",
    "    \n",
    "    # Sort the final dataset\n",
    "    merged_df = merged_df.sort_values(['listing_id', 'date'])\n",
    "    \n",
    "    return merged_df\n",
    "\n",
    "# Set the base path and city\n",
    "city = \"paris\"   # Can be changed to any city in the dataset\n",
    "\n",
    "# Merge the calendar data\n",
    "merged_calendar = merge_calendar_data(base_folder, city)\n",
    "\n",
    "# Basic information about the merged dataset\n",
    "print(\"\\nMerged Dataset Information:\")\n",
    "print(\"-\" * 30)\n",
    "print(f\"Total rows: {merged_calendar.shape[0]}\")\n",
    "print(f\"Total columns: {merged_calendar.shape[1]}\")\n",
    "print(f\"Date range: {merged_calendar['date'].min()} to {merged_calendar['date'].max()}\")\n",
    "print(f\"Number of unique listings: {merged_calendar['listing_id'].nunique()}\")\n",
    "\n",
    "# Display the first few rows of the merged dataset\n",
    "print(\"\\nFirst few rows of the merged dataset:\")\n",
    "display(merged_calendar.head())\n",
    "\n",
    "# Save the merged data\n",
    "output_filename = f\"{city}_merged_calendar.csv\"\n",
    "merged_calendar.to_csv(output_filename, index=False)\n",
    "print(f\"\\nMerged calendar data saved to {output_filename}\")"
   ]
  }
 ],
 "metadata": {
  "kernelspec": {
   "display_name": "Thesis",
   "language": "python",
   "name": "python3"
  },
  "language_info": {
   "codemirror_mode": {
    "name": "ipython",
    "version": 3
   },
   "file_extension": ".py",
   "mimetype": "text/x-python",
   "name": "python",
   "nbconvert_exporter": "python",
   "pygments_lexer": "ipython3",
   "version": "3.12.5"
  }
 },
 "nbformat": 4,
 "nbformat_minor": 2
}
