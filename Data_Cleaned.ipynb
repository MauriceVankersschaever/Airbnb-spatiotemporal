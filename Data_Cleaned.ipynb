{
 "cells": [
  {
   "cell_type": "markdown",
   "metadata": {},
   "source": [
    "# Data Cleaning #\n"
   ]
  },
  {
   "cell_type": "markdown",
   "metadata": {},
   "source": [
    "### Reading in the datasets "
   ]
  },
  {
   "cell_type": "code",
   "execution_count": 2,
   "metadata": {},
   "outputs": [],
   "source": [
    "import pandas as pd\n",
    "import geopandas as gpd\n",
    "import json\n",
    "\n",
    "# Reading CSV file\n",
    "def read_csv(file_path):\n",
    "    try:\n",
    "        df = pd.read_csv(file_path)\n",
    "        print(f\"Data from {file_path} loaded successfully!\")\n",
    "        return df\n",
    "    except Exception as e:\n",
    "        print(f\"Error reading {file_path}: {e}\")\n",
    "        return None\n",
    "\n",
    "# Reading Excel file\n",
    "def read_excel(file_path):\n",
    "    try:\n",
    "        df = pd.read_excel(file_path, engine='openpyxl')\n",
    "        print(f\"Data from {file_path} loaded successfully!\")\n",
    "        return df\n",
    "    except Exception as e:\n",
    "        print(f\"Error reading {file_path}: {e}\")\n",
    "        return None\n",
    "\n",
    "# Reading JSON file\n",
    "def read_json(file_path):\n",
    "    try:\n",
    "        df = pd.read_json(file_path)\n",
    "        print(f\"Data from {file_path} loaded successfully!\")\n",
    "        return df\n",
    "    except Exception as e:\n",
    "        print(f\"Error reading {file_path}: {e}\")\n",
    "        return None\n",
    "\n",
    "# Reading GeoJSON file\n",
    "def read_geojson(file_path):\n",
    "    try:\n",
    "        # First attempt: Try using geopandas\n",
    "        try:\n",
    "            gdf = gpd.read_file(file_path)\n",
    "            print(f\"Data from {file_path} loaded successfully using GeoPandas!\")\n",
    "            return gdf\n",
    "        except ImportError:\n",
    "            # If geopandas is not installed, fall back to manual JSON parsing\n",
    "            with open(file_path, 'r', encoding='utf-8') as f:\n",
    "                geojson_data = json.load(f)\n",
    "            \n",
    "            # Extract features and properties\n",
    "            features = []\n",
    "            for feature in geojson_data['features']:\n",
    "                # Get properties\n",
    "                properties = feature['properties']\n",
    "                \n",
    "                # Get geometry\n",
    "                geometry = feature['geometry']\n",
    "                \n",
    "                # Combine properties and geometry into one dictionary\n",
    "                feature_dict = {\n",
    "                    **properties,\n",
    "                    'geometry_type': geometry['type'],\n",
    "                    'coordinates': str(geometry['coordinates'])  # Convert to string to avoid nested structure\n",
    "                }\n",
    "                features.append(feature_dict)\n",
    "            \n",
    "            # Convert to pandas DataFrame\n",
    "            df = pd.DataFrame(features)\n",
    "            print(f\"Data from {file_path} loaded successfully using manual parsing!\")\n",
    "            return df\n",
    "            \n",
    "    except Exception as e:\n",
    "        print(f\"Error reading {file_path}: {e}\")\n",
    "        return None\n",
    "\n",
    "# Reading a dataset from any of these formats\n",
    "def read_dataset(file_path):\n",
    "    # Detect file extension to determine how to read it\n",
    "    if file_path.endswith('.csv'):\n",
    "        return read_csv(file_path)\n",
    "    elif file_path.endswith('.xlsx'):\n",
    "        return read_excel(file_path)\n",
    "    elif file_path.endswith('.json'):\n",
    "        return read_json(file_path)\n",
    "    elif file_path.endswith('.geojson'):\n",
    "        return read_geojson(file_path)\n",
    "    else:\n",
    "        print(\"Unsupported file type\")\n",
    "        return None\n",
    "\n",
    "# Helper function to check if geopandas is installed\n",
    "def is_geopandas_available():\n",
    "    try:\n",
    "        import geopandas\n",
    "        return True\n",
    "    except ImportError:\n",
    "        return False\n",
    "\n",
    "# Helper function to install geopandas if needed\n",
    "def install_geopandas():\n",
    "    try:\n",
    "        import subprocess\n",
    "        subprocess.check_call([\"pip\", \"install\", \"geopandas\"])\n",
    "        print(\"GeoPandas installed successfully!\")\n",
    "        return True\n",
    "    except Exception as e:\n",
    "        print(f\"Error installing GeoPandas: {e}\")\n",
    "        return False"
   ]
  },
  {
   "cell_type": "code",
   "execution_count": 3,
   "metadata": {},
   "outputs": [
    {
     "name": "stdout",
     "output_type": "stream",
     "text": [
      "Data from C:\\Users\\matth\\OneDrive\\Documents\\KU Leuven\\Thesis\\Merged_Data\\paris_merged_calendar.csv loaded successfully!\n",
      "Data from C:\\Users\\matth\\OneDrive\\Documents\\KU Leuven\\Thesis\\Data_Mor\\paris\\2024-09-06\\listings.csv loaded successfully!\n",
      "Data from C:\\Users\\matth\\OneDrive\\Documents\\KU Leuven\\Thesis\\Data_Mor\\paris\\2024-09-06\\neighbourhoods.csv loaded successfully!\n",
      "Data from C:\\Users\\matth\\OneDrive\\Documents\\KU Leuven\\Thesis\\Data_Mor\\paris\\2024-09-06\\neighbourhoods.geojson loaded successfully using GeoPandas!\n",
      "Data from C:\\Users\\matth\\OneDrive\\Documents\\KU Leuven\\Thesis\\Data_Mor\\paris\\2024-09-06\\reviews.csv loaded successfully!\n",
      "   listing_id        date  price\n",
      "0        3109  2023-09-05  110.0\n",
      "1        3109  2023-09-06  110.0\n",
      "2        3109  2023-09-07  110.0\n",
      "3        3109  2023-09-08  110.0\n",
      "4        3109  2023-09-09  110.0\n",
      "       id                          listing_url       scrape_id last_scraped  \\\n",
      "0    3109    https://www.airbnb.com/rooms/3109  20240906025355   2024-09-11   \n",
      "1    5396    https://www.airbnb.com/rooms/5396  20240906025355   2024-09-13   \n",
      "2    7397    https://www.airbnb.com/rooms/7397  20240906025355   2024-09-06   \n",
      "3    7964    https://www.airbnb.com/rooms/7964  20240906025355   2024-09-10   \n",
      "4  241715  https://www.airbnb.com/rooms/241715  20240906025355   2024-09-11   \n",
      "\n",
      "            source                                               name  \\\n",
      "0      city scrape                                       zen and calm   \n",
      "1      city scrape       Your perfect Paris studio on Île Saint-Louis   \n",
      "2      city scrape                   MARAIS - 2ROOMS APT - 2/4 PEOPLE   \n",
      "3  previous scrape                       Sunny apartment with balcony   \n",
      "4      city scrape  Big Cosy Appartement with 100 m2 Terrace in Paris   \n",
      "\n",
      "                                         description  \\\n",
      "0  Lovely Appartment with one bedroom with a Quee...   \n",
      "1  NEW SOFA-BED SINCE JUNE 2023, Please disregard...   \n",
      "2          VERY CONVENIENT, WITH THE BEST LOCATION !   \n",
      "3  We are renting our a spacious, sunny fully fur...   \n",
      "4  Come to stay in our unique Parisian flat to en...   \n",
      "\n",
      "                               neighborhood_overview  \\\n",
      "0  Good restaurants<br />very close the Montparna...   \n",
      "1  You are within walking distance to the Louvre,...   \n",
      "2                                                NaN   \n",
      "3                                                NaN   \n",
      "4  The 19th arrondissement of Paris, located in t...   \n",
      "\n",
      "                                         picture_url  host_id  ...  \\\n",
      "0  https://a0.muscache.com/pictures/miso/Hosting-...     3631  ...   \n",
      "1  https://a0.muscache.com/pictures/52413/f9bf76f...     7903  ...   \n",
      "2  https://a0.muscache.com/pictures/67928287/330b...     2626  ...   \n",
      "3  https://a0.muscache.com/pictures/miso/Hosting-...    22155  ...   \n",
      "4  https://a0.muscache.com/pictures/miso/Hosting-...  3342097  ...   \n",
      "\n",
      "  review_scores_communication review_scores_location review_scores_value  \\\n",
      "0                        5.00                   5.00                5.00   \n",
      "1                        4.84                   4.96                4.59   \n",
      "2                        4.89                   4.93                4.74   \n",
      "3                        5.00                   5.00                5.00   \n",
      "4                         NaN                    NaN                 NaN   \n",
      "\n",
      "         license instant_bookable calculated_host_listings_count  \\\n",
      "0  7511409139079                t                              1   \n",
      "1  7510402838018                f                              1   \n",
      "2  7510400829623                f                              1   \n",
      "3  7510903576564                f                              1   \n",
      "4  7511913070313                f                              1   \n",
      "\n",
      "  calculated_host_listings_count_entire_homes  \\\n",
      "0                                           1   \n",
      "1                                           1   \n",
      "2                                           1   \n",
      "3                                           1   \n",
      "4                                           1   \n",
      "\n",
      "  calculated_host_listings_count_private_rooms  \\\n",
      "0                                            0   \n",
      "1                                            0   \n",
      "2                                            0   \n",
      "3                                            0   \n",
      "4                                            0   \n",
      "\n",
      "  calculated_host_listings_count_shared_rooms reviews_per_month  \n",
      "0                                           0              0.05  \n",
      "1                                           0              2.23  \n",
      "2                                           0              2.20  \n",
      "3                                           0              0.03  \n",
      "4                                           0               NaN  \n",
      "\n",
      "[5 rows x 75 columns]\n",
      "   neighbourhood_group        neighbourhood\n",
      "0                  NaN  Batignolles-Monceau\n",
      "1                  NaN               Bourse\n",
      "2                  NaN      Buttes-Chaumont\n",
      "3                  NaN    Buttes-Montmartre\n",
      "4                  NaN               Élysée\n",
      "         neighbourhood neighbourhood_group  \\\n",
      "0  Batignolles-Monceau                None   \n",
      "1       Palais-Bourbon                None   \n",
      "2      Buttes-Chaumont                None   \n",
      "3                Opéra                None   \n",
      "4             Entrepôt                None   \n",
      "\n",
      "                                            geometry  \n",
      "0  MULTIPOLYGON (((2.29517 48.87396, 2.29504 48.8...  \n",
      "1  MULTIPOLYGON (((2.3209 48.86306, 2.32094 48.86...  \n",
      "2  MULTIPOLYGON (((2.38943 48.90122, 2.39014 48.9...  \n",
      "3  MULTIPOLYGON (((2.33978 48.88203, 2.33982 48.8...  \n",
      "4  MULTIPOLYGON (((2.36469 48.88437, 2.36486 48.8...  \n",
      "   listing_id         id        date  reviewer_id reviewer_name  \\\n",
      "0        3109  207127433  2017-10-28     51636494      Patricia   \n",
      "1        3109  208779822  2017-11-03      4142888      Patricia   \n",
      "2        3109  295840159  2018-07-24      7415343       Laurent   \n",
      "3        3109  553502638  2019-10-24     21159216     Anastasia   \n",
      "4        5396       4824  2009-06-30        19995         Sarah   \n",
      "\n",
      "                                            comments  \n",
      "0            Tout s'est bien déroulé. Merci bien. PG  \n",
      "1  Un petit nid fouiller douillet situé dans  app...  \n",
      "2  Appartement spacieux, propre,clair, et calme à...  \n",
      "3  Appartement totalement rénové, en parfait état...  \n",
      "4  Perfect location!! Nasrine was a delight and m...  \n"
     ]
    }
   ],
   "source": [
    "# Example usage\n",
    "merged_calendar = read_dataset(r\"C:\\Users\\matth\\OneDrive\\Documents\\KU Leuven\\Thesis\\Merged_Data\\paris_merged_calendar.csv\")\n",
    "listings = read_dataset(r\"C:\\Users\\matth\\OneDrive\\Documents\\KU Leuven\\Thesis\\Data_Mor\\paris\\2024-09-06\\listings.csv\")        \n",
    "neighbourhoods = read_dataset(r\"C:\\Users\\matth\\OneDrive\\Documents\\KU Leuven\\Thesis\\Data_Mor\\paris\\2024-09-06\\neighbourhoods.csv\")   \n",
    "neighbourhoods_geojson = read_dataset(r\"C:\\Users\\matth\\OneDrive\\Documents\\KU Leuven\\Thesis\\Data_Mor\\paris\\2024-09-06\\neighbourhoods.geojson\")     \n",
    "reviews = read_dataset(r\"C:\\Users\\matth\\OneDrive\\Documents\\KU Leuven\\Thesis\\Data_Mor\\paris\\2024-09-06\\reviews.csv\")\n",
    "\n",
    "\n",
    "# If you'd like to inspect the loaded data\n",
    "if merged_calendar is not None:\n",
    "    print(merged_calendar.head())\n",
    "if listings is not None:\n",
    "    print(listings.head())\n",
    "if neighbourhoods is not None:\n",
    "    print(neighbourhoods.head())\n",
    "if neighbourhoods_geojson is not None:\n",
    "    print(neighbourhoods_geojson.head())\n",
    "if reviews is not None:\n",
    "    print(reviews.head())"
   ]
  },
  {
   "cell_type": "code",
   "execution_count": 4,
   "metadata": {},
   "outputs": [
    {
     "name": "stdout",
     "output_type": "stream",
     "text": [
      "   listing_id        date  price\n",
      "0        3109  2023-09-05  110.0\n",
      "1        3109  2023-09-06  110.0\n",
      "2        3109  2023-09-07  110.0\n",
      "3        3109  2023-09-08  110.0\n",
      "4        3109  2023-09-09  110.0\n"
     ]
    }
   ],
   "source": [
    "if merged_calendar is not None:\n",
    "    print(merged_calendar.head())"
   ]
  },
  {
   "cell_type": "code",
   "execution_count": 5,
   "metadata": {},
   "outputs": [
    {
     "name": "stdout",
     "output_type": "stream",
     "text": [
      "       id                          listing_url       scrape_id last_scraped  \\\n",
      "0    3109    https://www.airbnb.com/rooms/3109  20240906025355   2024-09-11   \n",
      "1    5396    https://www.airbnb.com/rooms/5396  20240906025355   2024-09-13   \n",
      "2    7397    https://www.airbnb.com/rooms/7397  20240906025355   2024-09-06   \n",
      "3    7964    https://www.airbnb.com/rooms/7964  20240906025355   2024-09-10   \n",
      "4  241715  https://www.airbnb.com/rooms/241715  20240906025355   2024-09-11   \n",
      "\n",
      "            source                                               name  \\\n",
      "0      city scrape                                       zen and calm   \n",
      "1      city scrape       Your perfect Paris studio on Île Saint-Louis   \n",
      "2      city scrape                   MARAIS - 2ROOMS APT - 2/4 PEOPLE   \n",
      "3  previous scrape                       Sunny apartment with balcony   \n",
      "4      city scrape  Big Cosy Appartement with 100 m2 Terrace in Paris   \n",
      "\n",
      "                                         description  \\\n",
      "0  Lovely Appartment with one bedroom with a Quee...   \n",
      "1  NEW SOFA-BED SINCE JUNE 2023, Please disregard...   \n",
      "2          VERY CONVENIENT, WITH THE BEST LOCATION !   \n",
      "3  We are renting our a spacious, sunny fully fur...   \n",
      "4  Come to stay in our unique Parisian flat to en...   \n",
      "\n",
      "                               neighborhood_overview  \\\n",
      "0  Good restaurants<br />very close the Montparna...   \n",
      "1  You are within walking distance to the Louvre,...   \n",
      "2                                                NaN   \n",
      "3                                                NaN   \n",
      "4  The 19th arrondissement of Paris, located in t...   \n",
      "\n",
      "                                         picture_url  host_id  ...  \\\n",
      "0  https://a0.muscache.com/pictures/miso/Hosting-...     3631  ...   \n",
      "1  https://a0.muscache.com/pictures/52413/f9bf76f...     7903  ...   \n",
      "2  https://a0.muscache.com/pictures/67928287/330b...     2626  ...   \n",
      "3  https://a0.muscache.com/pictures/miso/Hosting-...    22155  ...   \n",
      "4  https://a0.muscache.com/pictures/miso/Hosting-...  3342097  ...   \n",
      "\n",
      "  review_scores_communication review_scores_location review_scores_value  \\\n",
      "0                        5.00                   5.00                5.00   \n",
      "1                        4.84                   4.96                4.59   \n",
      "2                        4.89                   4.93                4.74   \n",
      "3                        5.00                   5.00                5.00   \n",
      "4                         NaN                    NaN                 NaN   \n",
      "\n",
      "         license instant_bookable calculated_host_listings_count  \\\n",
      "0  7511409139079                t                              1   \n",
      "1  7510402838018                f                              1   \n",
      "2  7510400829623                f                              1   \n",
      "3  7510903576564                f                              1   \n",
      "4  7511913070313                f                              1   \n",
      "\n",
      "  calculated_host_listings_count_entire_homes  \\\n",
      "0                                           1   \n",
      "1                                           1   \n",
      "2                                           1   \n",
      "3                                           1   \n",
      "4                                           1   \n",
      "\n",
      "  calculated_host_listings_count_private_rooms  \\\n",
      "0                                            0   \n",
      "1                                            0   \n",
      "2                                            0   \n",
      "3                                            0   \n",
      "4                                            0   \n",
      "\n",
      "  calculated_host_listings_count_shared_rooms reviews_per_month  \n",
      "0                                           0              0.05  \n",
      "1                                           0              2.23  \n",
      "2                                           0              2.20  \n",
      "3                                           0              0.03  \n",
      "4                                           0               NaN  \n",
      "\n",
      "[5 rows x 75 columns]\n"
     ]
    }
   ],
   "source": [
    "if listings is not None:\n",
    "    print(listings.head())"
   ]
  },
  {
   "cell_type": "code",
   "execution_count": 6,
   "metadata": {},
   "outputs": [
    {
     "name": "stdout",
     "output_type": "stream",
     "text": [
      "   listing_id         id        date  reviewer_id reviewer_name  \\\n",
      "0        3109  207127433  2017-10-28     51636494      Patricia   \n",
      "1        3109  208779822  2017-11-03      4142888      Patricia   \n",
      "2        3109  295840159  2018-07-24      7415343       Laurent   \n",
      "3        3109  553502638  2019-10-24     21159216     Anastasia   \n",
      "4        5396       4824  2009-06-30        19995         Sarah   \n",
      "\n",
      "                                            comments  \n",
      "0            Tout s'est bien déroulé. Merci bien. PG  \n",
      "1  Un petit nid fouiller douillet situé dans  app...  \n",
      "2  Appartement spacieux, propre,clair, et calme à...  \n",
      "3  Appartement totalement rénové, en parfait état...  \n",
      "4  Perfect location!! Nasrine was a delight and m...  \n"
     ]
    }
   ],
   "source": [
    "if reviews is not None:\n",
    "    print(reviews.head())"
   ]
  },
  {
   "cell_type": "code",
   "execution_count": 7,
   "metadata": {},
   "outputs": [
    {
     "name": "stdout",
     "output_type": "stream",
     "text": [
      "          neighbourhood neighbourhood_group  \\\n",
      "0   Batignolles-Monceau                None   \n",
      "1        Palais-Bourbon                None   \n",
      "2       Buttes-Chaumont                None   \n",
      "3                 Opéra                None   \n",
      "4              Entrepôt                None   \n",
      "5              Gobelins                None   \n",
      "6             Vaugirard                None   \n",
      "7               Reuilly                None   \n",
      "8                Louvre                None   \n",
      "9            Luxembourg                None   \n",
      "10               Élysée                None   \n",
      "11               Temple                None   \n",
      "12         Ménilmontant                None   \n",
      "13             Panthéon                None   \n",
      "14                Passy                None   \n",
      "15         Observatoire                None   \n",
      "16           Popincourt                None   \n",
      "17               Bourse                None   \n",
      "18    Buttes-Montmartre                None   \n",
      "19       Hôtel-de-Ville                None   \n",
      "\n",
      "                                             geometry  \n",
      "0   MULTIPOLYGON (((2.29517 48.87396, 2.29504 48.8...  \n",
      "1   MULTIPOLYGON (((2.3209 48.86306, 2.32094 48.86...  \n",
      "2   MULTIPOLYGON (((2.38943 48.90122, 2.39014 48.9...  \n",
      "3   MULTIPOLYGON (((2.33978 48.88203, 2.33982 48.8...  \n",
      "4   MULTIPOLYGON (((2.36469 48.88437, 2.36486 48.8...  \n",
      "5   MULTIPOLYGON (((2.37491 48.83801, 2.37698 48.8...  \n",
      "6   MULTIPOLYGON (((2.29932 48.85217, 2.30088 48.8...  \n",
      "7   MULTIPOLYGON (((2.41388 48.83357, 2.41401 48.8...  \n",
      "8   MULTIPOLYGON (((2.32801 48.86992, 2.32997 48.8...  \n",
      "9   MULTIPOLYGON (((2.34459 48.85405, 2.34428 48.8...  \n",
      "10  MULTIPOLYGON (((2.32584 48.86956, 2.32569 48.8...  \n",
      "11  MULTIPOLYGON (((2.36383 48.8675, 2.36389 48.86...  \n",
      "12  MULTIPOLYGON (((2.41276 48.87547, 2.41284 48.8...  \n",
      "13  MULTIPOLYGON (((2.36443 48.84614, 2.36484 48.8...  \n",
      "14  MULTIPOLYGON (((2.27427 48.87836, 2.27749 48.8...  \n",
      "15  MULTIPOLYGON (((2.33381 48.84061, 2.33673 48.8...  \n",
      "16  MULTIPOLYGON (((2.39624 48.85416, 2.39708 48.8...  \n",
      "17  MULTIPOLYGON (((2.35152 48.86443, 2.35095 48.8...  \n",
      "18  MULTIPOLYGON (((2.3658 48.88554, 2.36469 48.88...  \n",
      "19  MULTIPOLYGON (((2.36851 48.85573, 2.369 48.853...  \n"
     ]
    }
   ],
   "source": [
    "if neighbourhoods_geojson is not None:\n",
    "    print(neighbourhoods_geojson.head(20))"
   ]
  },
  {
   "cell_type": "code",
   "execution_count": 8,
   "metadata": {},
   "outputs": [
    {
     "name": "stdout",
     "output_type": "stream",
     "text": [
      "   neighbourhood_group        neighbourhood\n",
      "0                  NaN  Batignolles-Monceau\n",
      "1                  NaN               Bourse\n",
      "2                  NaN      Buttes-Chaumont\n",
      "3                  NaN    Buttes-Montmartre\n",
      "4                  NaN               Élysée\n"
     ]
    }
   ],
   "source": [
    "if neighbourhoods is not None:\n",
    "    print(neighbourhoods.head())"
   ]
  },
  {
   "cell_type": "code",
   "execution_count": 10,
   "metadata": {},
   "outputs": [
    {
     "data": {
      "application/vnd.microsoft.datawrangler.viewer.v0+json": {
       "columns": [
        {
         "name": "index",
         "rawType": "int64",
         "type": "integer"
        },
        {
         "name": "id",
         "rawType": "int64",
         "type": "integer"
        },
        {
         "name": "neighbourhood_cleansed",
         "rawType": "object",
         "type": "string"
        },
        {
         "name": "latitude",
         "rawType": "float64",
         "type": "float"
        },
        {
         "name": "longitude",
         "rawType": "float64",
         "type": "float"
        },
        {
         "name": "price",
         "rawType": "object",
         "type": "unknown"
        }
       ],
       "conversionMethod": "pd.DataFrame",
       "ref": "481b66a0-dd63-44ec-a19f-f6fa22abb06c",
       "rows": [
        [
         "0",
         "3109",
         "Observatoire",
         "48.83191",
         "2.3187",
         "$113.00"
        ],
        [
         "1",
         "5396",
         "Hôtel-de-Ville",
         "48.85247",
         "2.35835",
         "$95.00"
        ],
        [
         "2",
         "7397",
         "Hôtel-de-Ville",
         "48.85909",
         "2.35315",
         "$145.00"
        ],
        [
         "3",
         "7964",
         "Opéra",
         "48.87417",
         "2.34245",
         null
        ],
        [
         "4",
         "241715",
         "Buttes-Chaumont",
         "48.8934638",
         "2.3783407",
         "$450.00"
        ]
       ],
       "shape": {
        "columns": 5,
        "rows": 5
       }
      },
      "text/html": [
       "<div>\n",
       "<style scoped>\n",
       "    .dataframe tbody tr th:only-of-type {\n",
       "        vertical-align: middle;\n",
       "    }\n",
       "\n",
       "    .dataframe tbody tr th {\n",
       "        vertical-align: top;\n",
       "    }\n",
       "\n",
       "    .dataframe thead th {\n",
       "        text-align: right;\n",
       "    }\n",
       "</style>\n",
       "<table border=\"1\" class=\"dataframe\">\n",
       "  <thead>\n",
       "    <tr style=\"text-align: right;\">\n",
       "      <th></th>\n",
       "      <th>id</th>\n",
       "      <th>neighbourhood_cleansed</th>\n",
       "      <th>latitude</th>\n",
       "      <th>longitude</th>\n",
       "      <th>price</th>\n",
       "    </tr>\n",
       "  </thead>\n",
       "  <tbody>\n",
       "    <tr>\n",
       "      <th>0</th>\n",
       "      <td>3109</td>\n",
       "      <td>Observatoire</td>\n",
       "      <td>48.831910</td>\n",
       "      <td>2.318700</td>\n",
       "      <td>$113.00</td>\n",
       "    </tr>\n",
       "    <tr>\n",
       "      <th>1</th>\n",
       "      <td>5396</td>\n",
       "      <td>Hôtel-de-Ville</td>\n",
       "      <td>48.852470</td>\n",
       "      <td>2.358350</td>\n",
       "      <td>$95.00</td>\n",
       "    </tr>\n",
       "    <tr>\n",
       "      <th>2</th>\n",
       "      <td>7397</td>\n",
       "      <td>Hôtel-de-Ville</td>\n",
       "      <td>48.859090</td>\n",
       "      <td>2.353150</td>\n",
       "      <td>$145.00</td>\n",
       "    </tr>\n",
       "    <tr>\n",
       "      <th>3</th>\n",
       "      <td>7964</td>\n",
       "      <td>Opéra</td>\n",
       "      <td>48.874170</td>\n",
       "      <td>2.342450</td>\n",
       "      <td>NaN</td>\n",
       "    </tr>\n",
       "    <tr>\n",
       "      <th>4</th>\n",
       "      <td>241715</td>\n",
       "      <td>Buttes-Chaumont</td>\n",
       "      <td>48.893464</td>\n",
       "      <td>2.378341</td>\n",
       "      <td>$450.00</td>\n",
       "    </tr>\n",
       "  </tbody>\n",
       "</table>\n",
       "</div>"
      ],
      "text/plain": [
       "       id neighbourhood_cleansed   latitude  longitude    price\n",
       "0    3109           Observatoire  48.831910   2.318700  $113.00\n",
       "1    5396         Hôtel-de-Ville  48.852470   2.358350   $95.00\n",
       "2    7397         Hôtel-de-Ville  48.859090   2.353150  $145.00\n",
       "3    7964                  Opéra  48.874170   2.342450      NaN\n",
       "4  241715        Buttes-Chaumont  48.893464   2.378341  $450.00"
      ]
     },
     "execution_count": 10,
     "metadata": {},
     "output_type": "execute_result"
    }
   ],
   "source": [
    "import pandas as pd\n",
    "\n",
    "def clean_data(df):\n",
    "    # Drop columns: 'listing_url', 'scrape_id' and 68 other columns\n",
    "    df = df.drop(columns=['listing_url', 'scrape_id', 'last_scraped', 'source', 'name', 'neighborhood_overview', 'description', 'picture_url', 'host_id', 'host_url', 'host_name', 'host_since', 'host_location', 'host_about', 'host_response_time', 'host_response_rate', 'host_acceptance_rate', 'host_is_superhost', 'host_thumbnail_url', 'host_picture_url', 'host_neighbourhood', 'host_total_listings_count', 'host_listings_count', 'host_verifications', 'host_has_profile_pic', 'host_identity_verified', 'neighbourhood', 'neighbourhood_group_cleansed', 'property_type', 'room_type', 'accommodates', 'bathrooms', 'bathrooms_text', 'amenities', 'beds', 'bedrooms', 'minimum_nights', 'maximum_nights', 'minimum_minimum_nights', 'maximum_minimum_nights', 'minimum_maximum_nights', 'maximum_maximum_nights', 'minimum_nights_avg_ntm', 'maximum_nights_avg_ntm', 'calendar_updated', 'has_availability', 'availability_30', 'availability_60', 'availability_90', 'availability_365', 'calendar_last_scraped', 'number_of_reviews', 'number_of_reviews_ltm', 'number_of_reviews_l30d', 'first_review', 'last_review', 'review_scores_rating', 'review_scores_accuracy', 'review_scores_cleanliness', 'review_scores_checkin', 'license', 'review_scores_communication', 'review_scores_location', 'review_scores_value', 'instant_bookable', 'calculated_host_listings_count', 'calculated_host_listings_count_entire_homes', 'calculated_host_listings_count_private_rooms', 'calculated_host_listings_count_shared_rooms', 'reviews_per_month'])\n",
    "    return df\n",
    "\n",
    "# Loaded variable 'df' from URI: c:\\Users\\matth\\OneDrive\\Documents\\KU Leuven\\Thesis\\Data_Mor\\paris\\2024-09-06\\listings.csv\n",
    "df = pd.read_csv(r'c:\\Users\\matth\\OneDrive\\Documents\\KU Leuven\\Thesis\\Data_Mor\\paris\\2024-09-06\\listings.csv')\n",
    "\n",
    "cleaned_listings = clean_data(df.copy())\n",
    "cleaned_listings.head()"
   ]
  },
  {
   "cell_type": "code",
   "execution_count": 11,
   "metadata": {},
   "outputs": [
    {
     "data": {
      "application/vnd.microsoft.datawrangler.viewer.v0+json": {
       "columns": [
        {
         "name": "index",
         "rawType": "int64",
         "type": "integer"
        },
        {
         "name": "listing_id",
         "rawType": "int64",
         "type": "integer"
        },
        {
         "name": "neighbourhood_cleansed",
         "rawType": "object",
         "type": "string"
        },
        {
         "name": "latitude",
         "rawType": "float64",
         "type": "float"
        },
        {
         "name": "longitude",
         "rawType": "float64",
         "type": "float"
        },
        {
         "name": "price",
         "rawType": "object",
         "type": "unknown"
        }
       ],
       "conversionMethod": "pd.DataFrame",
       "ref": "dd30ab40-60be-4205-9c71-fa13be24aad9",
       "rows": [
        [
         "0",
         "3109",
         "Observatoire",
         "48.83191",
         "2.3187",
         "$113.00"
        ],
        [
         "1",
         "5396",
         "Hôtel-de-Ville",
         "48.85247",
         "2.35835",
         "$95.00"
        ],
        [
         "2",
         "7397",
         "Hôtel-de-Ville",
         "48.85909",
         "2.35315",
         "$145.00"
        ],
        [
         "3",
         "7964",
         "Opéra",
         "48.87417",
         "2.34245",
         null
        ],
        [
         "4",
         "241715",
         "Buttes-Chaumont",
         "48.8934638",
         "2.3783407",
         "$450.00"
        ]
       ],
       "shape": {
        "columns": 5,
        "rows": 5
       }
      },
      "text/html": [
       "<div>\n",
       "<style scoped>\n",
       "    .dataframe tbody tr th:only-of-type {\n",
       "        vertical-align: middle;\n",
       "    }\n",
       "\n",
       "    .dataframe tbody tr th {\n",
       "        vertical-align: top;\n",
       "    }\n",
       "\n",
       "    .dataframe thead th {\n",
       "        text-align: right;\n",
       "    }\n",
       "</style>\n",
       "<table border=\"1\" class=\"dataframe\">\n",
       "  <thead>\n",
       "    <tr style=\"text-align: right;\">\n",
       "      <th></th>\n",
       "      <th>listing_id</th>\n",
       "      <th>neighbourhood_cleansed</th>\n",
       "      <th>latitude</th>\n",
       "      <th>longitude</th>\n",
       "      <th>price</th>\n",
       "    </tr>\n",
       "  </thead>\n",
       "  <tbody>\n",
       "    <tr>\n",
       "      <th>0</th>\n",
       "      <td>3109</td>\n",
       "      <td>Observatoire</td>\n",
       "      <td>48.831910</td>\n",
       "      <td>2.318700</td>\n",
       "      <td>$113.00</td>\n",
       "    </tr>\n",
       "    <tr>\n",
       "      <th>1</th>\n",
       "      <td>5396</td>\n",
       "      <td>Hôtel-de-Ville</td>\n",
       "      <td>48.852470</td>\n",
       "      <td>2.358350</td>\n",
       "      <td>$95.00</td>\n",
       "    </tr>\n",
       "    <tr>\n",
       "      <th>2</th>\n",
       "      <td>7397</td>\n",
       "      <td>Hôtel-de-Ville</td>\n",
       "      <td>48.859090</td>\n",
       "      <td>2.353150</td>\n",
       "      <td>$145.00</td>\n",
       "    </tr>\n",
       "    <tr>\n",
       "      <th>3</th>\n",
       "      <td>7964</td>\n",
       "      <td>Opéra</td>\n",
       "      <td>48.874170</td>\n",
       "      <td>2.342450</td>\n",
       "      <td>NaN</td>\n",
       "    </tr>\n",
       "    <tr>\n",
       "      <th>4</th>\n",
       "      <td>241715</td>\n",
       "      <td>Buttes-Chaumont</td>\n",
       "      <td>48.893464</td>\n",
       "      <td>2.378341</td>\n",
       "      <td>$450.00</td>\n",
       "    </tr>\n",
       "  </tbody>\n",
       "</table>\n",
       "</div>"
      ],
      "text/plain": [
       "   listing_id neighbourhood_cleansed   latitude  longitude    price\n",
       "0        3109           Observatoire  48.831910   2.318700  $113.00\n",
       "1        5396         Hôtel-de-Ville  48.852470   2.358350   $95.00\n",
       "2        7397         Hôtel-de-Ville  48.859090   2.353150  $145.00\n",
       "3        7964                  Opéra  48.874170   2.342450      NaN\n",
       "4      241715        Buttes-Chaumont  48.893464   2.378341  $450.00"
      ]
     },
     "execution_count": 11,
     "metadata": {},
     "output_type": "execute_result"
    }
   ],
   "source": [
    "def clean_data(cleaned_listings):\n",
    "    # Rename column 'id' to 'listing_id'\n",
    "    cleaned_listings = cleaned_listings.rename(columns={'id': 'listing_id'})\n",
    "    return cleaned_listings\n",
    "\n",
    "cleaned_listings_clean = clean_data(cleaned_listings.copy())\n",
    "cleaned_listings_clean.head()"
   ]
  },
  {
   "cell_type": "code",
   "execution_count": 12,
   "metadata": {},
   "outputs": [
    {
     "name": "stdout",
     "output_type": "stream",
     "text": [
      "Original shapes:\n",
      "DataFrame 1: (79418789, 3)\n",
      "DataFrame 2: (95461, 5)\n",
      "\n",
      "Merged shape: (64012312, 7)\n",
      "Number of unique listings: 95461\n",
      "\n",
      "Columns that were duplicated during merge:\n",
      "['price_1', 'price_2']\n",
      "\n",
      "First few rows of merged dataset:\n",
      "   listing_id        date  price_1 neighbourhood_cleansed  latitude  \\\n",
      "0        3109  2023-09-05    110.0           Observatoire  48.83191   \n",
      "1        3109  2023-09-06    110.0           Observatoire  48.83191   \n",
      "2        3109  2023-09-07    110.0           Observatoire  48.83191   \n",
      "3        3109  2023-09-08    110.0           Observatoire  48.83191   \n",
      "4        3109  2023-09-09    110.0           Observatoire  48.83191   \n",
      "\n",
      "   longitude  price_2  \n",
      "0     2.3187  $113.00  \n",
      "1     2.3187  $113.00  \n",
      "2     2.3187  $113.00  \n",
      "3     2.3187  $113.00  \n",
      "4     2.3187  $113.00  \n"
     ]
    }
   ],
   "source": [
    "# Assuming your dataframes are called df1 and df2\n",
    "merged_df = pd.merge(merged_calendar, cleaned_listings_clean, \n",
    "                    on='listing_id',\n",
    "                    how='inner',\n",
    "                    suffixes=('_1', '_2'))\n",
    "\n",
    "# Print info about the merge\n",
    "print(\"Original shapes:\")\n",
    "print(f\"DataFrame 1: {merged_calendar.shape}\")\n",
    "print(f\"DataFrame 2: {cleaned_listings_clean.shape}\")\n",
    "print(f\"\\nMerged shape: {merged_df.shape}\")\n",
    "print(f\"Number of unique listings: {merged_df['listing_id'].nunique()}\")\n",
    "\n",
    "# Check for duplicate columns\n",
    "duplicate_cols = [col for col in merged_df.columns if col.endswith('_1') or col.endswith('_2')]\n",
    "if duplicate_cols:\n",
    "    print(\"\\nColumns that were duplicated during merge:\")\n",
    "    print(duplicate_cols)\n",
    "\n",
    "# Show first few rows\n",
    "print(\"\\nFirst few rows of merged dataset:\")\n",
    "print(merged_df.head())"
   ]
  },
  {
   "cell_type": "code",
   "execution_count": 13,
   "metadata": {},
   "outputs": [],
   "source": [
    "merged_df = merged_df.drop(columns=['price_2'])\n"
   ]
  },
  {
   "cell_type": "code",
   "execution_count": 14,
   "metadata": {},
   "outputs": [
    {
     "data": {
      "application/vnd.microsoft.datawrangler.viewer.v0+json": {
       "columns": [
        {
         "name": "index",
         "rawType": "int64",
         "type": "integer"
        },
        {
         "name": "listing_id",
         "rawType": "int64",
         "type": "integer"
        },
        {
         "name": "date",
         "rawType": "object",
         "type": "string"
        },
        {
         "name": "price_1",
         "rawType": "float64",
         "type": "float"
        },
        {
         "name": "neighbourhood_cleansed",
         "rawType": "object",
         "type": "string"
        },
        {
         "name": "latitude",
         "rawType": "float64",
         "type": "float"
        },
        {
         "name": "longitude",
         "rawType": "float64",
         "type": "float"
        }
       ],
       "conversionMethod": "pd.DataFrame",
       "ref": "48c9b256-0cfc-49b8-a542-46041ff9e0ca",
       "rows": [
        [
         "0",
         "3109",
         "2023-09-05",
         "110.0",
         "Observatoire",
         "48.83191",
         "2.3187"
        ],
        [
         "1",
         "3109",
         "2023-09-06",
         "110.0",
         "Observatoire",
         "48.83191",
         "2.3187"
        ],
        [
         "2",
         "3109",
         "2023-09-07",
         "110.0",
         "Observatoire",
         "48.83191",
         "2.3187"
        ],
        [
         "3",
         "3109",
         "2023-09-08",
         "110.0",
         "Observatoire",
         "48.83191",
         "2.3187"
        ],
        [
         "4",
         "3109",
         "2023-09-09",
         "110.0",
         "Observatoire",
         "48.83191",
         "2.3187"
        ],
        [
         "5",
         "3109",
         "2023-09-10",
         "110.0",
         "Observatoire",
         "48.83191",
         "2.3187"
        ],
        [
         "6",
         "3109",
         "2023-09-11",
         "110.0",
         "Observatoire",
         "48.83191",
         "2.3187"
        ],
        [
         "7",
         "3109",
         "2023-09-12",
         "110.0",
         "Observatoire",
         "48.83191",
         "2.3187"
        ],
        [
         "8",
         "3109",
         "2023-09-13",
         "110.0",
         "Observatoire",
         "48.83191",
         "2.3187"
        ],
        [
         "9",
         "3109",
         "2023-09-14",
         "110.0",
         "Observatoire",
         "48.83191",
         "2.3187"
        ],
        [
         "10",
         "3109",
         "2023-09-15",
         "110.0",
         "Observatoire",
         "48.83191",
         "2.3187"
        ],
        [
         "11",
         "3109",
         "2023-09-16",
         "110.0",
         "Observatoire",
         "48.83191",
         "2.3187"
        ],
        [
         "12",
         "3109",
         "2023-09-17",
         "110.0",
         "Observatoire",
         "48.83191",
         "2.3187"
        ],
        [
         "13",
         "3109",
         "2023-09-18",
         "110.0",
         "Observatoire",
         "48.83191",
         "2.3187"
        ],
        [
         "14",
         "3109",
         "2023-09-19",
         "110.0",
         "Observatoire",
         "48.83191",
         "2.3187"
        ],
        [
         "15",
         "3109",
         "2023-09-20",
         "110.0",
         "Observatoire",
         "48.83191",
         "2.3187"
        ],
        [
         "16",
         "3109",
         "2023-09-21",
         "110.0",
         "Observatoire",
         "48.83191",
         "2.3187"
        ],
        [
         "17",
         "3109",
         "2023-09-22",
         "110.0",
         "Observatoire",
         "48.83191",
         "2.3187"
        ],
        [
         "18",
         "3109",
         "2023-09-23",
         "110.0",
         "Observatoire",
         "48.83191",
         "2.3187"
        ],
        [
         "19",
         "3109",
         "2023-09-24",
         "110.0",
         "Observatoire",
         "48.83191",
         "2.3187"
        ],
        [
         "20",
         "3109",
         "2023-09-25",
         "110.0",
         "Observatoire",
         "48.83191",
         "2.3187"
        ],
        [
         "21",
         "3109",
         "2023-09-26",
         "110.0",
         "Observatoire",
         "48.83191",
         "2.3187"
        ],
        [
         "22",
         "3109",
         "2023-09-27",
         "110.0",
         "Observatoire",
         "48.83191",
         "2.3187"
        ],
        [
         "23",
         "3109",
         "2023-09-28",
         "110.0",
         "Observatoire",
         "48.83191",
         "2.3187"
        ],
        [
         "24",
         "3109",
         "2023-09-29",
         "110.0",
         "Observatoire",
         "48.83191",
         "2.3187"
        ],
        [
         "25",
         "3109",
         "2023-09-30",
         "110.0",
         "Observatoire",
         "48.83191",
         "2.3187"
        ],
        [
         "26",
         "3109",
         "2023-10-01",
         "110.0",
         "Observatoire",
         "48.83191",
         "2.3187"
        ],
        [
         "27",
         "3109",
         "2023-10-02",
         "110.0",
         "Observatoire",
         "48.83191",
         "2.3187"
        ],
        [
         "28",
         "3109",
         "2023-10-03",
         "110.0",
         "Observatoire",
         "48.83191",
         "2.3187"
        ],
        [
         "29",
         "3109",
         "2023-10-04",
         "110.0",
         "Observatoire",
         "48.83191",
         "2.3187"
        ],
        [
         "30",
         "3109",
         "2023-10-05",
         "110.0",
         "Observatoire",
         "48.83191",
         "2.3187"
        ],
        [
         "31",
         "3109",
         "2023-10-06",
         "110.0",
         "Observatoire",
         "48.83191",
         "2.3187"
        ],
        [
         "32",
         "3109",
         "2023-10-07",
         "110.0",
         "Observatoire",
         "48.83191",
         "2.3187"
        ],
        [
         "33",
         "3109",
         "2023-10-08",
         "110.0",
         "Observatoire",
         "48.83191",
         "2.3187"
        ],
        [
         "34",
         "3109",
         "2023-10-09",
         "110.0",
         "Observatoire",
         "48.83191",
         "2.3187"
        ],
        [
         "35",
         "3109",
         "2023-10-10",
         "110.0",
         "Observatoire",
         "48.83191",
         "2.3187"
        ],
        [
         "36",
         "3109",
         "2023-10-11",
         "110.0",
         "Observatoire",
         "48.83191",
         "2.3187"
        ],
        [
         "37",
         "3109",
         "2023-10-12",
         "110.0",
         "Observatoire",
         "48.83191",
         "2.3187"
        ],
        [
         "38",
         "3109",
         "2023-10-13",
         "110.0",
         "Observatoire",
         "48.83191",
         "2.3187"
        ],
        [
         "39",
         "3109",
         "2023-10-14",
         "110.0",
         "Observatoire",
         "48.83191",
         "2.3187"
        ],
        [
         "40",
         "3109",
         "2023-10-15",
         "110.0",
         "Observatoire",
         "48.83191",
         "2.3187"
        ],
        [
         "41",
         "3109",
         "2023-10-16",
         "110.0",
         "Observatoire",
         "48.83191",
         "2.3187"
        ],
        [
         "42",
         "3109",
         "2023-10-17",
         "110.0",
         "Observatoire",
         "48.83191",
         "2.3187"
        ],
        [
         "43",
         "3109",
         "2023-10-18",
         "110.0",
         "Observatoire",
         "48.83191",
         "2.3187"
        ],
        [
         "44",
         "3109",
         "2023-10-19",
         "110.0",
         "Observatoire",
         "48.83191",
         "2.3187"
        ],
        [
         "45",
         "3109",
         "2023-10-20",
         "110.0",
         "Observatoire",
         "48.83191",
         "2.3187"
        ],
        [
         "46",
         "3109",
         "2023-10-21",
         "110.0",
         "Observatoire",
         "48.83191",
         "2.3187"
        ],
        [
         "47",
         "3109",
         "2023-10-22",
         "110.0",
         "Observatoire",
         "48.83191",
         "2.3187"
        ],
        [
         "48",
         "3109",
         "2023-10-23",
         "110.0",
         "Observatoire",
         "48.83191",
         "2.3187"
        ],
        [
         "49",
         "3109",
         "2023-10-24",
         "110.0",
         "Observatoire",
         "48.83191",
         "2.3187"
        ]
       ],
       "shape": {
        "columns": 6,
        "rows": 64012312
       }
      },
      "text/html": [
       "<div>\n",
       "<style scoped>\n",
       "    .dataframe tbody tr th:only-of-type {\n",
       "        vertical-align: middle;\n",
       "    }\n",
       "\n",
       "    .dataframe tbody tr th {\n",
       "        vertical-align: top;\n",
       "    }\n",
       "\n",
       "    .dataframe thead th {\n",
       "        text-align: right;\n",
       "    }\n",
       "</style>\n",
       "<table border=\"1\" class=\"dataframe\">\n",
       "  <thead>\n",
       "    <tr style=\"text-align: right;\">\n",
       "      <th></th>\n",
       "      <th>listing_id</th>\n",
       "      <th>date</th>\n",
       "      <th>price_1</th>\n",
       "      <th>neighbourhood_cleansed</th>\n",
       "      <th>latitude</th>\n",
       "      <th>longitude</th>\n",
       "    </tr>\n",
       "  </thead>\n",
       "  <tbody>\n",
       "    <tr>\n",
       "      <th>0</th>\n",
       "      <td>3109</td>\n",
       "      <td>2023-09-05</td>\n",
       "      <td>110.0</td>\n",
       "      <td>Observatoire</td>\n",
       "      <td>48.831910</td>\n",
       "      <td>2.318700</td>\n",
       "    </tr>\n",
       "    <tr>\n",
       "      <th>1</th>\n",
       "      <td>3109</td>\n",
       "      <td>2023-09-06</td>\n",
       "      <td>110.0</td>\n",
       "      <td>Observatoire</td>\n",
       "      <td>48.831910</td>\n",
       "      <td>2.318700</td>\n",
       "    </tr>\n",
       "    <tr>\n",
       "      <th>2</th>\n",
       "      <td>3109</td>\n",
       "      <td>2023-09-07</td>\n",
       "      <td>110.0</td>\n",
       "      <td>Observatoire</td>\n",
       "      <td>48.831910</td>\n",
       "      <td>2.318700</td>\n",
       "    </tr>\n",
       "    <tr>\n",
       "      <th>3</th>\n",
       "      <td>3109</td>\n",
       "      <td>2023-09-08</td>\n",
       "      <td>110.0</td>\n",
       "      <td>Observatoire</td>\n",
       "      <td>48.831910</td>\n",
       "      <td>2.318700</td>\n",
       "    </tr>\n",
       "    <tr>\n",
       "      <th>4</th>\n",
       "      <td>3109</td>\n",
       "      <td>2023-09-09</td>\n",
       "      <td>110.0</td>\n",
       "      <td>Observatoire</td>\n",
       "      <td>48.831910</td>\n",
       "      <td>2.318700</td>\n",
       "    </tr>\n",
       "    <tr>\n",
       "      <th>...</th>\n",
       "      <td>...</td>\n",
       "      <td>...</td>\n",
       "      <td>...</td>\n",
       "      <td>...</td>\n",
       "      <td>...</td>\n",
       "      <td>...</td>\n",
       "    </tr>\n",
       "    <tr>\n",
       "      <th>64012307</th>\n",
       "      <td>1239136641042729451</td>\n",
       "      <td>2025-09-06</td>\n",
       "      <td>110.0</td>\n",
       "      <td>Panthéon</td>\n",
       "      <td>48.839583</td>\n",
       "      <td>2.346317</td>\n",
       "    </tr>\n",
       "    <tr>\n",
       "      <th>64012308</th>\n",
       "      <td>1239136641042729451</td>\n",
       "      <td>2025-09-07</td>\n",
       "      <td>110.0</td>\n",
       "      <td>Panthéon</td>\n",
       "      <td>48.839583</td>\n",
       "      <td>2.346317</td>\n",
       "    </tr>\n",
       "    <tr>\n",
       "      <th>64012309</th>\n",
       "      <td>1239136641042729451</td>\n",
       "      <td>2025-09-08</td>\n",
       "      <td>110.0</td>\n",
       "      <td>Panthéon</td>\n",
       "      <td>48.839583</td>\n",
       "      <td>2.346317</td>\n",
       "    </tr>\n",
       "    <tr>\n",
       "      <th>64012310</th>\n",
       "      <td>1239136641042729451</td>\n",
       "      <td>2025-09-09</td>\n",
       "      <td>110.0</td>\n",
       "      <td>Panthéon</td>\n",
       "      <td>48.839583</td>\n",
       "      <td>2.346317</td>\n",
       "    </tr>\n",
       "    <tr>\n",
       "      <th>64012311</th>\n",
       "      <td>1239136641042729451</td>\n",
       "      <td>2025-09-10</td>\n",
       "      <td>110.0</td>\n",
       "      <td>Panthéon</td>\n",
       "      <td>48.839583</td>\n",
       "      <td>2.346317</td>\n",
       "    </tr>\n",
       "  </tbody>\n",
       "</table>\n",
       "<p>64012312 rows × 6 columns</p>\n",
       "</div>"
      ],
      "text/plain": [
       "                   listing_id        date  price_1 neighbourhood_cleansed  \\\n",
       "0                        3109  2023-09-05    110.0           Observatoire   \n",
       "1                        3109  2023-09-06    110.0           Observatoire   \n",
       "2                        3109  2023-09-07    110.0           Observatoire   \n",
       "3                        3109  2023-09-08    110.0           Observatoire   \n",
       "4                        3109  2023-09-09    110.0           Observatoire   \n",
       "...                       ...         ...      ...                    ...   \n",
       "64012307  1239136641042729451  2025-09-06    110.0               Panthéon   \n",
       "64012308  1239136641042729451  2025-09-07    110.0               Panthéon   \n",
       "64012309  1239136641042729451  2025-09-08    110.0               Panthéon   \n",
       "64012310  1239136641042729451  2025-09-09    110.0               Panthéon   \n",
       "64012311  1239136641042729451  2025-09-10    110.0               Panthéon   \n",
       "\n",
       "           latitude  longitude  \n",
       "0         48.831910   2.318700  \n",
       "1         48.831910   2.318700  \n",
       "2         48.831910   2.318700  \n",
       "3         48.831910   2.318700  \n",
       "4         48.831910   2.318700  \n",
       "...             ...        ...  \n",
       "64012307  48.839583   2.346317  \n",
       "64012308  48.839583   2.346317  \n",
       "64012309  48.839583   2.346317  \n",
       "64012310  48.839583   2.346317  \n",
       "64012311  48.839583   2.346317  \n",
       "\n",
       "[64012312 rows x 6 columns]"
      ]
     },
     "execution_count": 14,
     "metadata": {},
     "output_type": "execute_result"
    }
   ],
   "source": [
    "merged_df"
   ]
  },
  {
   "cell_type": "code",
   "execution_count": 36,
   "metadata": {},
   "outputs": [
    {
     "data": {
      "application/vnd.microsoft.datawrangler.viewer.v0+json": {
       "columns": [
        {
         "name": "index",
         "rawType": "int64",
         "type": "integer"
        },
        {
         "name": "listing_id",
         "rawType": "int64",
         "type": "integer"
        },
        {
         "name": "date",
         "rawType": "object",
         "type": "string"
        },
        {
         "name": "price",
         "rawType": "float64",
         "type": "float"
        },
        {
         "name": "neighbourhood_cleansed",
         "rawType": "object",
         "type": "string"
        },
        {
         "name": "latitude",
         "rawType": "float64",
         "type": "float"
        },
        {
         "name": "longitude",
         "rawType": "float64",
         "type": "float"
        }
       ],
       "conversionMethod": "pd.DataFrame",
       "ref": "63f0fd65-cfe5-4885-a1fe-52491fe91ad5",
       "rows": [
        [
         "0",
         "3109",
         "2023-09-05",
         "110.0",
         "Observatoire",
         "48.83191",
         "2.3187"
        ],
        [
         "1",
         "3109",
         "2023-09-06",
         "110.0",
         "Observatoire",
         "48.83191",
         "2.3187"
        ],
        [
         "2",
         "3109",
         "2023-09-07",
         "110.0",
         "Observatoire",
         "48.83191",
         "2.3187"
        ],
        [
         "3",
         "3109",
         "2023-09-08",
         "110.0",
         "Observatoire",
         "48.83191",
         "2.3187"
        ],
        [
         "4",
         "3109",
         "2023-09-09",
         "110.0",
         "Observatoire",
         "48.83191",
         "2.3187"
        ]
       ],
       "shape": {
        "columns": 6,
        "rows": 5
       }
      },
      "text/html": [
       "<div>\n",
       "<style scoped>\n",
       "    .dataframe tbody tr th:only-of-type {\n",
       "        vertical-align: middle;\n",
       "    }\n",
       "\n",
       "    .dataframe tbody tr th {\n",
       "        vertical-align: top;\n",
       "    }\n",
       "\n",
       "    .dataframe thead th {\n",
       "        text-align: right;\n",
       "    }\n",
       "</style>\n",
       "<table border=\"1\" class=\"dataframe\">\n",
       "  <thead>\n",
       "    <tr style=\"text-align: right;\">\n",
       "      <th></th>\n",
       "      <th>listing_id</th>\n",
       "      <th>date</th>\n",
       "      <th>price</th>\n",
       "      <th>neighbourhood_cleansed</th>\n",
       "      <th>latitude</th>\n",
       "      <th>longitude</th>\n",
       "    </tr>\n",
       "  </thead>\n",
       "  <tbody>\n",
       "    <tr>\n",
       "      <th>0</th>\n",
       "      <td>3109</td>\n",
       "      <td>2023-09-05</td>\n",
       "      <td>110.0</td>\n",
       "      <td>Observatoire</td>\n",
       "      <td>48.83191</td>\n",
       "      <td>2.3187</td>\n",
       "    </tr>\n",
       "    <tr>\n",
       "      <th>1</th>\n",
       "      <td>3109</td>\n",
       "      <td>2023-09-06</td>\n",
       "      <td>110.0</td>\n",
       "      <td>Observatoire</td>\n",
       "      <td>48.83191</td>\n",
       "      <td>2.3187</td>\n",
       "    </tr>\n",
       "    <tr>\n",
       "      <th>2</th>\n",
       "      <td>3109</td>\n",
       "      <td>2023-09-07</td>\n",
       "      <td>110.0</td>\n",
       "      <td>Observatoire</td>\n",
       "      <td>48.83191</td>\n",
       "      <td>2.3187</td>\n",
       "    </tr>\n",
       "    <tr>\n",
       "      <th>3</th>\n",
       "      <td>3109</td>\n",
       "      <td>2023-09-08</td>\n",
       "      <td>110.0</td>\n",
       "      <td>Observatoire</td>\n",
       "      <td>48.83191</td>\n",
       "      <td>2.3187</td>\n",
       "    </tr>\n",
       "    <tr>\n",
       "      <th>4</th>\n",
       "      <td>3109</td>\n",
       "      <td>2023-09-09</td>\n",
       "      <td>110.0</td>\n",
       "      <td>Observatoire</td>\n",
       "      <td>48.83191</td>\n",
       "      <td>2.3187</td>\n",
       "    </tr>\n",
       "  </tbody>\n",
       "</table>\n",
       "</div>"
      ],
      "text/plain": [
       "   listing_id        date  price neighbourhood_cleansed  latitude  longitude\n",
       "0        3109  2023-09-05  110.0           Observatoire  48.83191     2.3187\n",
       "1        3109  2023-09-06  110.0           Observatoire  48.83191     2.3187\n",
       "2        3109  2023-09-07  110.0           Observatoire  48.83191     2.3187\n",
       "3        3109  2023-09-08  110.0           Observatoire  48.83191     2.3187\n",
       "4        3109  2023-09-09  110.0           Observatoire  48.83191     2.3187"
      ]
     },
     "execution_count": 36,
     "metadata": {},
     "output_type": "execute_result"
    }
   ],
   "source": [
    "def clean_data(merged_df):\n",
    "    # Rename column 'price_1' to 'price'\n",
    "    merged_df = merged_df.rename(columns={'price_1': 'price'})\n",
    "    return merged_df\n",
    "\n",
    "merged_df_clean = clean_data(merged_df.copy())\n",
    "merged_df_clean.head()"
   ]
  },
  {
   "cell_type": "code",
   "execution_count": 1,
   "metadata": {},
   "outputs": [
    {
     "ename": "NameError",
     "evalue": "name 'merged_df_clean' is not defined",
     "output_type": "error",
     "traceback": [
      "\u001b[1;31m---------------------------------------------------------------------------\u001b[0m",
      "\u001b[1;31mNameError\u001b[0m                                 Traceback (most recent call last)",
      "Cell \u001b[1;32mIn[1], line 1\u001b[0m\n\u001b[1;32m----> 1\u001b[0m \u001b[43mmerged_df_clean\u001b[49m\n",
      "\u001b[1;31mNameError\u001b[0m: name 'merged_df_clean' is not defined"
     ]
    }
   ],
   "source": [
    "merged_df_clean"
   ]
  }
 ],
 "metadata": {
  "kernelspec": {
   "display_name": "Spatiotemporal_Analytics",
   "language": "python",
   "name": "python3"
  },
  "language_info": {
   "codemirror_mode": {
    "name": "ipython",
    "version": 3
   },
   "file_extension": ".py",
   "mimetype": "text/x-python",
   "name": "python",
   "nbconvert_exporter": "python",
   "pygments_lexer": "ipython3",
   "version": "3.12.7"
  }
 },
 "nbformat": 4,
 "nbformat_minor": 2
}
