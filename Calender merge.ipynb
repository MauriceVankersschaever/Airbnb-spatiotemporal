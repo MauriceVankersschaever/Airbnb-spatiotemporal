{
 "cells": [
  {
   "cell_type": "code",
   "execution_count": 5,
   "metadata": {},
   "outputs": [
    {
     "name": "stderr",
     "output_type": "stream",
     "text": [
      "<>:19: SyntaxWarning: invalid escape sequence '\\m'\n",
      "<>:19: SyntaxWarning: invalid escape sequence '\\m'\n",
      "C:\\Users\\matth\\AppData\\Local\\Temp\\ipykernel_12024\\3896196728.py:19: SyntaxWarning: invalid escape sequence '\\m'\n",
      "  base_folder = 'C:\\\\Users\\matth\\OneDrive\\Documents\\KU Leuven\\Thesis\\Data_Mor'\n"
     ]
    },
    {
     "name": "stdout",
     "output_type": "stream",
     "text": [
      "Attempting to load from:\n",
      "C:\\Users\\matth\\OneDrive\\Documents\\KU Leuven\\Thesis\\Data_Mor\\paris\\2023-09-04\\listings.csv\n",
      "Data loaded successfully!\n"
     ]
    }
   ],
   "source": [
    "import pandas as pd\n",
    "import numpy as np\n",
    "import matplotlib.pyplot as plt\n",
    "import seaborn as sns\n",
    "from datetime import datetime\n",
    "import os\n",
    "\n",
    "# Enable inline plotting\n",
    "%matplotlib inline\n",
    "\n",
    "# Set style for all plots\n",
    "plt.style.use('seaborn-v0_8')\n",
    "sns.set_palette(\"husl\")\n",
    "import os\n",
    "\n",
    "# Fix the base folder path by using raw string or forward slashes\n",
    "base_folder = r'C:\\\\Users\\matth\\OneDrive\\Documents\\KU Leuven\\Thesis\\Data_Mor'\n",
    "# OR\n",
    "base_folder = 'C:\\\\Users\\matth\\OneDrive\\Documents\\KU Leuven\\Thesis\\Data_Mor'\n",
    "\n",
    "def load_city_data(base_folder, city, date):\n",
    "    \"\"\"Load and preprocess data for a specific city and date.\"\"\"\n",
    "    # Use os.path.join to handle path separators correctly\n",
    "    base_path = os.path.join(base_folder, city, date)\n",
    "    \n",
    "    # Print the paths to verify they're correct\n",
    "    listings_path = os.path.join(base_path, 'listings.csv')\n",
    "    calendar_path = os.path.join(base_path, 'calendar.csv')\n",
    "    neighborhoods_path = os.path.join(base_path, 'neighbourhoods.csv')\n",
    "    \n",
    "    print(f\"Attempting to load from:\\n{listings_path}\")\n",
    "    \n",
    "    # Load data files\n",
    "    listings = pd.read_csv(listings_path, low_memory=False)\n",
    "    calendar = pd.read_csv(calendar_path, low_memory=False)\n",
    "    neighborhoods = pd.read_csv(neighborhoods_path)\n",
    "    \n",
    "    return listings, calendar, neighborhoods\n",
    "\n",
    "city = \"paris\"\n",
    "date = \"2023-09-04\"\n",
    "# Try loading the data\n",
    "try:\n",
    "    listings, calendar, neighborhoods = load_city_data(base_folder, city, date)\n",
    "    print(\"Data loaded successfully!\")\n",
    "except Exception as e:\n",
    "    print(f\"Error loading data: {str(e)}\")\n",
    "    print(f\"Current working directory: {os.getcwd()}\")\n"
   ]
  },
  {
   "cell_type": "code",
   "execution_count": 6,
   "metadata": {},
   "outputs": [
    {
     "name": "stdout",
     "output_type": "stream",
     "text": [
      "Listings shape: (67942, 5)\n",
      "\n",
      "Listings columns: ['id', 'neighbourhood', 'neighbourhood_cleansed', 'latitude', 'longitude']\n",
      "\n",
      "Calendar shape: (24798862, 3)\n",
      "\n",
      "Calendar columns: ['listing_id', 'date', 'price']\n"
     ]
    }
   ],
   "source": [
    "# Select relevant columns from listings DataFrame\n",
    "listings_cleaned = listings[['id', 'neighbourhood', 'neighbourhood_cleansed', 'latitude', 'longitude']]\n",
    "\n",
    "# Select relevant columns from calendar DataFrame\n",
    "calendar_cleaned = calendar[['listing_id', 'date', 'price']]\n",
    "\n",
    "# Verify the structures\n",
    "print(\"Listings shape:\", listings_cleaned.shape)\n",
    "print(\"\\nListings columns:\", listings_cleaned.columns.tolist())\n",
    "print(\"\\nCalendar shape:\", calendar_cleaned.shape)\n",
    "print(\"\\nCalendar columns:\", calendar_cleaned.columns.tolist())"
   ]
  },
  {
   "cell_type": "code",
   "execution_count": null,
   "metadata": {},
   "outputs": [],
   "source": []
  }
 ],
 "metadata": {
  "kernelspec": {
   "display_name": "Spatiotemporal_Analytics",
   "language": "python",
   "name": "python3"
  },
  "language_info": {
   "codemirror_mode": {
    "name": "ipython",
    "version": 3
   },
   "file_extension": ".py",
   "mimetype": "text/x-python",
   "name": "python",
   "nbconvert_exporter": "python",
   "pygments_lexer": "ipython3",
   "version": "3.12.7"
  }
 },
 "nbformat": 4,
 "nbformat_minor": 2
}
